{
 "cells": [
  {
   "cell_type": "markdown",
   "metadata": {},
   "source": [
    "# Question"
   ]
  },
  {
   "cell_type": "code",
   "execution_count": 37,
   "metadata": {},
   "outputs": [
    {
     "name": "stdout",
     "output_type": "stream",
     "text": [
      "Addition is :  (5+8j)\n",
      "Subtraction is :  (-1-2j)\n",
      "Multiplication is :  (-9+19j)\n",
      "Division is :  (0.6176470588235294-0.02941176470588238j)\n"
     ]
    }
   ],
   "source": [
    "# Research on addition, sutraction, multiplication, division, floor division and module operations be performed on complex \n",
    "# numbers. Based on your study, implement a python to demonstrate these operations\n",
    "\n",
    "a = 2+3j\n",
    "b = 3+5j\n",
    "\n",
    "print(\"Addition is : \",a+b)\n",
    "\n",
    "print(\"Subtraction is : \",a-b)\n",
    "\n",
    "print(\"Multiplication is : \",a*b)\n",
    "\n",
    "print(\"Division is : \",a/b)\n",
    "\n",
    "# Floor(//) on complex numbers are not possible\n",
    "\n",
    "# Module on complex numbers are not possible"
   ]
  },
  {
   "cell_type": "markdown",
   "metadata": {},
   "source": [
    "# Question 2"
   ]
  },
  {
   "cell_type": "markdown",
   "metadata": {},
   "source": [
    "Q. Research on range() functions and its parameters. Create a markdown cell and write in your own words (no copy=paste from google) what you understand about it.Implement a small program of your choice on the same.\n",
    "\n",
    "    range():-\n",
    "        The range() function returns the sequence of numbers based on the passed parameters, ie. start,stop,step\n",
    "\n",
    "    Syntax : \n",
    "         range(start, stop, step_size)\n",
    "    \n",
    "    start : (by_default 0) it specifies the starting value of the range\n",
    "\n",
    "    stop : it specifies where to stop, it is exclusive, ie. the last value is not included in range\n",
    "\n",
    "           ie. if range(0,200) , then the range will be actually between (0-199)\n",
    "\n",
    "    step_size : \n",
    "       (By default 1) it specifies by how much to increase by. ie. if (0,10,2) then it will give : [0,2,4,6,8] \n",
    "       (ie. increse by 2)"
   ]
  },
  {
   "cell_type": "code",
   "execution_count": 38,
   "metadata": {},
   "outputs": [
    {
     "name": "stdout",
     "output_type": "stream",
     "text": [
      "[1, 3, 5, 7, 9, 11, 13, 15, 17, 19, 21, 23, 25, 27, 29]\n"
     ]
    }
   ],
   "source": [
    "# Example of range()\n",
    "\n",
    "l =[i for i in range (1,30,2)]\n",
    "print(l)"
   ]
  },
  {
   "cell_type": "markdown",
   "metadata": {},
   "source": [
    "# Question 3"
   ]
  },
  {
   "cell_type": "code",
   "execution_count": 39,
   "metadata": {},
   "outputs": [
    {
     "name": "stdout",
     "output_type": "stream",
     "text": [
      "Enter 1st Number : 40\n",
      "Enter 2nd Number : 10\n",
      "Multiplication :  400\n"
     ]
    }
   ],
   "source": [
    "# Consider two numbers. Perform their subtraction and if the result of subtraction is greater then 25, print their \n",
    "# multiplication result else print their division result.\n",
    "\n",
    "n1 = int(input(\"Enter 1st Number : \"))\n",
    "n2 = int(input(\"Enter 2nd Number : \"))\n",
    "\n",
    "if n1-n2>25:\n",
    "    print(\"Multiplication : \",n1*n2)\n",
    "else:\n",
    "    print(\"Division : \",n1/n2)"
   ]
  },
  {
   "cell_type": "markdown",
   "metadata": {},
   "source": [
    "# Question 4"
   ]
  },
  {
   "cell_type": "code",
   "execution_count": 40,
   "metadata": {},
   "outputs": [
    {
     "name": "stdout",
     "output_type": "stream",
     "text": [
      "2\n",
      "14\n",
      "34\n",
      "62\n",
      "98\n"
     ]
    }
   ],
   "source": [
    "# Consider a list of 10 elements of integer values. If the number in the list is divisible by 2, print the result as \n",
    "# \"Square of that number minus 2\".\n",
    "\n",
    "l = [1,2,3,4,5,6,7,8,9,10]\n",
    "\n",
    "for i in l:\n",
    "    if i%2==0:\n",
    "        print((i**2)-2)"
   ]
  },
  {
   "cell_type": "markdown",
   "metadata": {},
   "source": [
    "# Question 5"
   ]
  },
  {
   "cell_type": "code",
   "execution_count": 41,
   "metadata": {},
   "outputs": [
    {
     "name": "stdout",
     "output_type": "stream",
     "text": [
      "8\n",
      "10\n"
     ]
    }
   ],
   "source": [
    "# Consider a list of 10 elements. Print all the elements in the list which are greater than 7 when that number is divided by 2.\n",
    "\n",
    "l = [1,2,3,4,5,6,7,8,9,10]\n",
    "\n",
    "for i in l:\n",
    "    if i>7 and i%2==0:\n",
    "        print(i)"
   ]
  },
  {
   "cell_type": "code",
   "execution_count": null,
   "metadata": {},
   "outputs": [],
   "source": []
  }
 ],
 "metadata": {
  "kernelspec": {
   "display_name": "Python 3",
   "language": "python",
   "name": "python3"
  },
  "language_info": {
   "codemirror_mode": {
    "name": "ipython",
    "version": 3
   },
   "file_extension": ".py",
   "mimetype": "text/x-python",
   "name": "python",
   "nbconvert_exporter": "python",
   "pygments_lexer": "ipython3",
   "version": "3.7.0"
  }
 },
 "nbformat": 4,
 "nbformat_minor": 2
}
