{
 "cells": [
  {
   "cell_type": "markdown",
   "metadata": {},
   "source": [
    "# Question 1"
   ]
  },
  {
   "cell_type": "code",
   "execution_count": 26,
   "metadata": {},
   "outputs": [
    {
     "name": "stdout",
     "output_type": "stream",
     "text": [
      "(3+2j) - (5+4j) = (-2-2j)\n"
     ]
    }
   ],
   "source": [
    "#Write a program to subtract two complex numbers in Python.\n",
    "a = 3 + 2j\n",
    "b = 5 + 4j\n",
    "c=a-b\n",
    "print(a,\"-\",b,\"=\",c)"
   ]
  },
  {
   "cell_type": "markdown",
   "metadata": {},
   "source": [
    "# Question 2"
   ]
  },
  {
   "cell_type": "code",
   "execution_count": 27,
   "metadata": {},
   "outputs": [
    {
     "name": "stdout",
     "output_type": "stream",
     "text": [
      "8.0\n"
     ]
    }
   ],
   "source": [
    "#Write a program to find a fourth root of a number.\n",
    "number = 4096\n",
    "\n",
    "fourth_root = (number)**(1/4)\n",
    "print(fourth_root)"
   ]
  },
  {
   "cell_type": "markdown",
   "metadata": {},
   "source": [
    "# Question 3"
   ]
  },
  {
   "cell_type": "code",
   "execution_count": 28,
   "metadata": {},
   "outputs": [
    {
     "name": "stdout",
     "output_type": "stream",
     "text": [
      "Before Swapping : a =  10 b =  20\n",
      "After Swapping : a =  20 b =  10\n"
     ]
    }
   ],
   "source": [
    "#Write a program to swap two numbers in python with the help of temporary variable.\n",
    "a = 10\n",
    "b = 20\n",
    "print(\"Before Swapping : a = \",a,\"b = \",b)\n",
    "\n",
    "#Swapping\n",
    "temp=a\n",
    "a=b\n",
    "b=temp\n",
    "\n",
    "print(\"After Swapping : a = \",a,\"b = \",b)"
   ]
  },
  {
   "cell_type": "markdown",
   "metadata": {},
   "source": [
    "# Question 4"
   ]
  },
  {
   "cell_type": "code",
   "execution_count": 29,
   "metadata": {},
   "outputs": [
    {
     "name": "stdout",
     "output_type": "stream",
     "text": [
      "Before Swapping : a =  10 b =  20\n",
      "After Swapping : a =  20 b =  10\n"
     ]
    }
   ],
   "source": [
    "#Write a program to swap two numbers in python without using temporary variable.\n",
    "a = 10\n",
    "b = 20\n",
    "print(\"Before Swapping : a = \",a,\"b = \",b)\n",
    "\n",
    "#Swapping\n",
    "a,b=b,a\n",
    "\n",
    "print(\"After Swapping : a = \",a,\"b = \",b)"
   ]
  },
  {
   "cell_type": "markdown",
   "metadata": {},
   "source": [
    "# Question 5"
   ]
  },
  {
   "cell_type": "code",
   "execution_count": 41,
   "metadata": {},
   "outputs": [
    {
     "name": "stdout",
     "output_type": "stream",
     "text": [
      "Fahrenheit :  40 F\n",
      "Celcius :  4.444444444444445 C\n",
      "Kelvin :  277.59444444444443 K\n"
     ]
    }
   ],
   "source": [
    "#Write a program to convert fahrenheit to kelvin and celsius.\n",
    "\n",
    "f = 40\n",
    "\n",
    "#Fahrenheit to celcius : C = (F-32) * (5/9)\n",
    "c = (f-32)*(5/9)\n",
    "\n",
    "#Fahrenheit to kelvin : K = C + 273.15\n",
    "k = c + 273.15\n",
    "\n",
    "print(\"Fahrenheit : \",f,\"F\")\n",
    "print(\"Celcius : \",c,\"C\")\n",
    "print(\"Kelvin : \",k,\"K\")\n"
   ]
  },
  {
   "cell_type": "markdown",
   "metadata": {},
   "source": [
    "# Question 6"
   ]
  },
  {
   "cell_type": "code",
   "execution_count": 48,
   "metadata": {},
   "outputs": [
    {
     "name": "stdout",
     "output_type": "stream",
     "text": [
      "\n",
      " Bhagyashree is a <class 'str'>\n",
      "\n",
      " 10 is a <class 'int'>\n",
      "\n",
      " 12.5 is a <class 'float'>\n",
      "\n",
      " (3+5j) is a <class 'complex'>\n",
      "\n",
      " [10, 20, 30] is a <class 'list'>\n",
      "\n",
      " (1, 2, 3) is a <class 'tuple'>\n",
      "\n",
      " {1, 2, 3} is a <class 'set'>\n",
      "\n",
      " {'One': 1, 'Two': 2} is a <class 'dict'>\n"
     ]
    }
   ],
   "source": [
    "#Write a program to demonstrate all the available data types in python.\n",
    "\n",
    "#Strings\n",
    "b = \"Bhagyashree\"\n",
    "print(\"\\n\",b,\"is a\",type(b))\n",
    "\n",
    "#Integers\n",
    "i = 10\n",
    "print(\"\\n\",i,\"is a\",type(i))\n",
    "\n",
    "#Float\n",
    "f = 12.5\n",
    "print(\"\\n\",f,\"is a\",type(f))\n",
    "\n",
    "#Complex\n",
    "c = 3+5j\n",
    "print(\"\\n\",c,\"is a\",type(c))\n",
    "\n",
    "#List\n",
    "l = [10,20,30]\n",
    "print(\"\\n\",l,\"is a\",type(l))\n",
    "\n",
    "#Tuple\n",
    "t = (1,2,3)\n",
    "print(\"\\n\",t,\"is a\",type(t))\n",
    "\n",
    "#Set\n",
    "s = {1,2,3}\n",
    "print(\"\\n\",s,\"is a\",type(s))\n",
    "\n",
    "#Dictionary\n",
    "d = {\"One\":1,\"Two\":2}\n",
    "print(\"\\n\",d,\"is a\",type(d))"
   ]
  },
  {
   "cell_type": "markdown",
   "metadata": {},
   "source": [
    "# Question 7"
   ]
  },
  {
   "cell_type": "markdown",
   "metadata": {},
   "source": [
    "How to upload a project assignment in github.\n",
    "\n",
    "    1.Create project/assignment folder in ypur local machine.\n",
    "    2.Load the github url and create a profile(if you dont have one, create one by signing up with your existing gmail account).\n",
    "    3.Click on new button.\n",
    "    4.Name the repository as LetsUpgrade AI-ML\n",
    "    5.Upload your project/assignment folder by drag-drop option.\n",
    "    6.Click on commit changes.\n",
    "    7.Open the LetsUpgrade project/assignment submission form(upgrade team will upload the drive link).\n",
    "    8.Fill the email, and other required fields.\n",
    "    9.Copy paste the github url where you uploaded the project/assignment folder in your github.\n",
    "    10.Click on submit.\n"
   ]
  },
  {
   "cell_type": "code",
   "execution_count": null,
   "metadata": {},
   "outputs": [],
   "source": []
  }
 ],
 "metadata": {
  "kernelspec": {
   "display_name": "Python 3",
   "language": "python",
   "name": "python3"
  },
  "language_info": {
   "codemirror_mode": {
    "name": "ipython",
    "version": 3
   },
   "file_extension": ".py",
   "mimetype": "text/x-python",
   "name": "python",
   "nbconvert_exporter": "python",
   "pygments_lexer": "ipython3",
   "version": "3.7.0"
  }
 },
 "nbformat": 4,
 "nbformat_minor": 2
}
