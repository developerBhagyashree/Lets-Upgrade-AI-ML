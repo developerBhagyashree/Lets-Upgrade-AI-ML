{
 "cells": [
  {
   "cell_type": "markdown",
   "metadata": {},
   "source": [
    "# Question 1\n",
    "    \n",
    "    Assuming that we have some email addresses in the \"username@company.com\" format, please write a program to print the \n",
    "    company name of a given email address. Both user names and company names are composed of letters only.\n",
    "    \n",
    "    Input Format :\n",
    "        The first line of the input contains an email address.\n",
    "    \n",
    "    Output Format :\n",
    "        Print the company name in single line.\n",
    "        \n",
    "    Example :-\n",
    "        Input : john@google.com\n",
    "        Output : google"
   ]
  },
  {
   "cell_type": "code",
   "execution_count": 10,
   "metadata": {},
   "outputs": [
    {
     "name": "stdout",
     "output_type": "stream",
     "text": [
      "john@google.com\n",
      "google\n"
     ]
    }
   ],
   "source": [
    "c_name = input().split(\"@\")[1].split(\".\")[0]\n",
    "print(c_name)"
   ]
  },
  {
   "cell_type": "markdown",
   "metadata": {},
   "source": [
    "# Question 2\n",
    "\n",
    "    Write a program that accepts a comma-seperated sequence of words as input and prints the words in a comma seperated \n",
    "    sequence after sorting them alphabetically.\n",
    "    \n",
    "    Input Format :\n",
    "        The first line of input contains words seperated by the comma.\n",
    "       \n",
    "    Output Format :\n",
    "        Print the sorted words seperated by comma.\n",
    "        \n",
    "    Example :-\n",
    "        Input : without,hello,bag,world\n",
    "        Output : bag,hello,without,world"
   ]
  },
  {
   "cell_type": "code",
   "execution_count": 18,
   "metadata": {},
   "outputs": [
    {
     "name": "stdout",
     "output_type": "stream",
     "text": [
      "without,hello,bag,world\n",
      "bag,hello,without,world\n"
     ]
    }
   ],
   "source": [
    "l = input().split(\",\")\n",
    "\n",
    "l.sort()\n",
    "print(\",\".join(l))"
   ]
  },
  {
   "cell_type": "markdown",
   "metadata": {},
   "source": [
    "# Question 3\n",
    "    \n",
    "    Create Your own Jupyter Notebook for Sets.\n",
    "    Reference link : https://wwww/w3schools.com/python/python_sets.asp"
   ]
  },
  {
   "cell_type": "code",
   "execution_count": 26,
   "metadata": {},
   "outputs": [
    {
     "data": {
      "text/plain": [
       "{1, 2, 3, 4, 5}"
      ]
     },
     "execution_count": 26,
     "metadata": {},
     "output_type": "execute_result"
    }
   ],
   "source": [
    "s = {1,2,3,4,5}\n",
    "s"
   ]
  },
  {
   "cell_type": "code",
   "execution_count": 27,
   "metadata": {},
   "outputs": [
    {
     "data": {
      "text/plain": [
       "{1, 2, 3, 4, 5, 6}"
      ]
     },
     "execution_count": 27,
     "metadata": {},
     "output_type": "execute_result"
    }
   ],
   "source": [
    "s.add(6)\n",
    "s"
   ]
  },
  {
   "cell_type": "code",
   "execution_count": 28,
   "metadata": {},
   "outputs": [
    {
     "data": {
      "text/plain": [
       "{2, 3, 4, 5, 6}"
      ]
     },
     "execution_count": 28,
     "metadata": {},
     "output_type": "execute_result"
    }
   ],
   "source": [
    "s.pop()\n",
    "s"
   ]
  },
  {
   "cell_type": "code",
   "execution_count": 29,
   "metadata": {},
   "outputs": [
    {
     "name": "stdout",
     "output_type": "stream",
     "text": [
      "5\n"
     ]
    }
   ],
   "source": [
    "print(len(s))"
   ]
  },
  {
   "cell_type": "code",
   "execution_count": 32,
   "metadata": {},
   "outputs": [
    {
     "name": "stdout",
     "output_type": "stream",
     "text": [
      "{2, 3, 4, 5, 6}\n",
      "False\n"
     ]
    }
   ],
   "source": [
    "print(s)\n",
    "print(1 in s) "
   ]
  },
  {
   "cell_type": "markdown",
   "metadata": {},
   "source": [
    "# Question 4\n",
    "\n",
    "    Given a list of n-1 numbers ranging from 1 to n, your task is to find the missing number. There are no duplicates.\n",
    "    \n",
    "    Input Format :\n",
    "        The first line contains n-1 numbers with each number seperated by a space.\n",
    "        \n",
    "    Output Format :\n",
    "        Print the missing number.\n",
    "        \n",
    "    Example :-\n",
    "        Input : 1 2 4 6 3 7 8\n",
    "        Output : 5\n",
    "        \n",
    "    Explanation :\n",
    "        In the above list of numbers 5 is missing and hence 5 is the output."
   ]
  },
  {
   "cell_type": "code",
   "execution_count": 33,
   "metadata": {},
   "outputs": [
    {
     "name": "stdout",
     "output_type": "stream",
     "text": [
      "1 2 3 4 5 6 8\n",
      "7\n"
     ]
    }
   ],
   "source": [
    "ip = input().split()\n",
    "ip = list(map(int,ip)) # convert all string in list to integers\n",
    "\n",
    "m = max(ip)\n",
    "\n",
    "for i in range(1,m):\n",
    "    if i not in ip:\n",
    "        print(i)\n",
    "        break"
   ]
  },
  {
   "cell_type": "code",
   "execution_count": null,
   "metadata": {},
   "outputs": [],
   "source": []
  },
  {
   "cell_type": "markdown",
   "metadata": {},
   "source": [
    "# Question 5\n",
    "\n",
    "    With a given list L, write a program to print this list L after removing all duplicate values with original order reserved.\n",
    "    \n",
    "    Example :-\n",
    "        If the Input list is - 12 24 35 24 88 120 155 88 120 155\n",
    "        \n",
    "        Then Output should be - 12 24 35 88 120 155\n",
    "        "
   ]
  },
  {
   "cell_type": "code",
   "execution_count": 41,
   "metadata": {},
   "outputs": [
    {
     "name": "stdout",
     "output_type": "stream",
     "text": [
      "11 22 33 11 22 45 44\n",
      "11 22 33 45 44\n"
     ]
    }
   ],
   "source": [
    "l = input().split()\n",
    "\n",
    "op=[]\n",
    "for i in l:\n",
    "    if i not in op:\n",
    "        op.append(i)\n",
    "    \n",
    "print(\" \".join(op))"
   ]
  },
  {
   "cell_type": "code",
   "execution_count": null,
   "metadata": {},
   "outputs": [],
   "source": []
  },
  {
   "cell_type": "code",
   "execution_count": null,
   "metadata": {},
   "outputs": [],
   "source": []
  },
  {
   "cell_type": "code",
   "execution_count": null,
   "metadata": {},
   "outputs": [],
   "source": []
  },
  {
   "cell_type": "code",
   "execution_count": null,
   "metadata": {},
   "outputs": [],
   "source": []
  }
 ],
 "metadata": {
  "kernelspec": {
   "display_name": "Python 3",
   "language": "python",
   "name": "python3"
  },
  "language_info": {
   "codemirror_mode": {
    "name": "ipython",
    "version": 3
   },
   "file_extension": ".py",
   "mimetype": "text/x-python",
   "name": "python",
   "nbconvert_exporter": "python",
   "pygments_lexer": "ipython3",
   "version": "3.7.0"
  }
 },
 "nbformat": 4,
 "nbformat_minor": 2
}
