{
 "cells": [
  {
   "cell_type": "code",
   "execution_count": 3,
   "metadata": {},
   "outputs": [],
   "source": [
    "import pandas as pd\n",
    "import numpy as np\n",
    "import matplotlib.pyplot as plt"
   ]
  },
  {
   "cell_type": "code",
   "execution_count": 4,
   "metadata": {},
   "outputs": [],
   "source": [
    "df = pd.read_csv(\"general_data.csv\")"
   ]
  },
  {
   "cell_type": "code",
   "execution_count": 5,
   "metadata": {},
   "outputs": [
    {
     "data": {
      "text/html": [
       "<div>\n",
       "<style scoped>\n",
       "    .dataframe tbody tr th:only-of-type {\n",
       "        vertical-align: middle;\n",
       "    }\n",
       "\n",
       "    .dataframe tbody tr th {\n",
       "        vertical-align: top;\n",
       "    }\n",
       "\n",
       "    .dataframe thead th {\n",
       "        text-align: right;\n",
       "    }\n",
       "</style>\n",
       "<table border=\"1\" class=\"dataframe\">\n",
       "  <thead>\n",
       "    <tr style=\"text-align: right;\">\n",
       "      <th></th>\n",
       "      <th>Age</th>\n",
       "      <th>Attrition</th>\n",
       "      <th>BusinessTravel</th>\n",
       "      <th>Department</th>\n",
       "      <th>DistanceFromHome</th>\n",
       "      <th>Education</th>\n",
       "      <th>EducationField</th>\n",
       "      <th>EmployeeCount</th>\n",
       "      <th>EmployeeID</th>\n",
       "      <th>Gender</th>\n",
       "      <th>...</th>\n",
       "      <th>NumCompaniesWorked</th>\n",
       "      <th>Over18</th>\n",
       "      <th>PercentSalaryHike</th>\n",
       "      <th>StandardHours</th>\n",
       "      <th>StockOptionLevel</th>\n",
       "      <th>TotalWorkingYears</th>\n",
       "      <th>TrainingTimesLastYear</th>\n",
       "      <th>YearsAtCompany</th>\n",
       "      <th>YearsSinceLastPromotion</th>\n",
       "      <th>YearsWithCurrManager</th>\n",
       "    </tr>\n",
       "  </thead>\n",
       "  <tbody>\n",
       "    <tr>\n",
       "      <th>0</th>\n",
       "      <td>51</td>\n",
       "      <td>No</td>\n",
       "      <td>Travel_Rarely</td>\n",
       "      <td>Sales</td>\n",
       "      <td>6</td>\n",
       "      <td>2</td>\n",
       "      <td>Life Sciences</td>\n",
       "      <td>1</td>\n",
       "      <td>1</td>\n",
       "      <td>Female</td>\n",
       "      <td>...</td>\n",
       "      <td>1.0</td>\n",
       "      <td>Y</td>\n",
       "      <td>11</td>\n",
       "      <td>8</td>\n",
       "      <td>0</td>\n",
       "      <td>1.0</td>\n",
       "      <td>6</td>\n",
       "      <td>1</td>\n",
       "      <td>0</td>\n",
       "      <td>0</td>\n",
       "    </tr>\n",
       "    <tr>\n",
       "      <th>1</th>\n",
       "      <td>31</td>\n",
       "      <td>Yes</td>\n",
       "      <td>Travel_Frequently</td>\n",
       "      <td>Research &amp; Development</td>\n",
       "      <td>10</td>\n",
       "      <td>1</td>\n",
       "      <td>Life Sciences</td>\n",
       "      <td>1</td>\n",
       "      <td>2</td>\n",
       "      <td>Female</td>\n",
       "      <td>...</td>\n",
       "      <td>0.0</td>\n",
       "      <td>Y</td>\n",
       "      <td>23</td>\n",
       "      <td>8</td>\n",
       "      <td>1</td>\n",
       "      <td>6.0</td>\n",
       "      <td>3</td>\n",
       "      <td>5</td>\n",
       "      <td>1</td>\n",
       "      <td>4</td>\n",
       "    </tr>\n",
       "    <tr>\n",
       "      <th>2</th>\n",
       "      <td>32</td>\n",
       "      <td>No</td>\n",
       "      <td>Travel_Frequently</td>\n",
       "      <td>Research &amp; Development</td>\n",
       "      <td>17</td>\n",
       "      <td>4</td>\n",
       "      <td>Other</td>\n",
       "      <td>1</td>\n",
       "      <td>3</td>\n",
       "      <td>Male</td>\n",
       "      <td>...</td>\n",
       "      <td>1.0</td>\n",
       "      <td>Y</td>\n",
       "      <td>15</td>\n",
       "      <td>8</td>\n",
       "      <td>3</td>\n",
       "      <td>5.0</td>\n",
       "      <td>2</td>\n",
       "      <td>5</td>\n",
       "      <td>0</td>\n",
       "      <td>3</td>\n",
       "    </tr>\n",
       "    <tr>\n",
       "      <th>3</th>\n",
       "      <td>38</td>\n",
       "      <td>No</td>\n",
       "      <td>Non-Travel</td>\n",
       "      <td>Research &amp; Development</td>\n",
       "      <td>2</td>\n",
       "      <td>5</td>\n",
       "      <td>Life Sciences</td>\n",
       "      <td>1</td>\n",
       "      <td>4</td>\n",
       "      <td>Male</td>\n",
       "      <td>...</td>\n",
       "      <td>3.0</td>\n",
       "      <td>Y</td>\n",
       "      <td>11</td>\n",
       "      <td>8</td>\n",
       "      <td>3</td>\n",
       "      <td>13.0</td>\n",
       "      <td>5</td>\n",
       "      <td>8</td>\n",
       "      <td>7</td>\n",
       "      <td>5</td>\n",
       "    </tr>\n",
       "    <tr>\n",
       "      <th>4</th>\n",
       "      <td>32</td>\n",
       "      <td>No</td>\n",
       "      <td>Travel_Rarely</td>\n",
       "      <td>Research &amp; Development</td>\n",
       "      <td>10</td>\n",
       "      <td>1</td>\n",
       "      <td>Medical</td>\n",
       "      <td>1</td>\n",
       "      <td>5</td>\n",
       "      <td>Male</td>\n",
       "      <td>...</td>\n",
       "      <td>4.0</td>\n",
       "      <td>Y</td>\n",
       "      <td>12</td>\n",
       "      <td>8</td>\n",
       "      <td>2</td>\n",
       "      <td>9.0</td>\n",
       "      <td>2</td>\n",
       "      <td>6</td>\n",
       "      <td>0</td>\n",
       "      <td>4</td>\n",
       "    </tr>\n",
       "  </tbody>\n",
       "</table>\n",
       "<p>5 rows × 24 columns</p>\n",
       "</div>"
      ],
      "text/plain": [
       "   Age Attrition     BusinessTravel              Department  DistanceFromHome  \\\n",
       "0   51        No      Travel_Rarely                   Sales                 6   \n",
       "1   31       Yes  Travel_Frequently  Research & Development                10   \n",
       "2   32        No  Travel_Frequently  Research & Development                17   \n",
       "3   38        No         Non-Travel  Research & Development                 2   \n",
       "4   32        No      Travel_Rarely  Research & Development                10   \n",
       "\n",
       "   Education EducationField  EmployeeCount  EmployeeID  Gender  \\\n",
       "0          2  Life Sciences              1           1  Female   \n",
       "1          1  Life Sciences              1           2  Female   \n",
       "2          4          Other              1           3    Male   \n",
       "3          5  Life Sciences              1           4    Male   \n",
       "4          1        Medical              1           5    Male   \n",
       "\n",
       "           ...           NumCompaniesWorked Over18 PercentSalaryHike  \\\n",
       "0          ...                          1.0      Y                11   \n",
       "1          ...                          0.0      Y                23   \n",
       "2          ...                          1.0      Y                15   \n",
       "3          ...                          3.0      Y                11   \n",
       "4          ...                          4.0      Y                12   \n",
       "\n",
       "   StandardHours  StockOptionLevel TotalWorkingYears  TrainingTimesLastYear  \\\n",
       "0              8                 0               1.0                      6   \n",
       "1              8                 1               6.0                      3   \n",
       "2              8                 3               5.0                      2   \n",
       "3              8                 3              13.0                      5   \n",
       "4              8                 2               9.0                      2   \n",
       "\n",
       "   YearsAtCompany  YearsSinceLastPromotion  YearsWithCurrManager  \n",
       "0               1                        0                     0  \n",
       "1               5                        1                     4  \n",
       "2               5                        0                     3  \n",
       "3               8                        7                     5  \n",
       "4               6                        0                     4  \n",
       "\n",
       "[5 rows x 24 columns]"
      ]
     },
     "execution_count": 5,
     "metadata": {},
     "output_type": "execute_result"
    }
   ],
   "source": [
    "df.head()"
   ]
  },
  {
   "cell_type": "code",
   "execution_count": 7,
   "metadata": {},
   "outputs": [],
   "source": [
    "df = df.drop_duplicates()"
   ]
  },
  {
   "cell_type": "code",
   "execution_count": 11,
   "metadata": {},
   "outputs": [],
   "source": [
    "df_attr_yes = df[df.Attrition==\"Yes\"]"
   ]
  },
  {
   "cell_type": "code",
   "execution_count": 13,
   "metadata": {},
   "outputs": [
    {
     "data": {
      "text/html": [
       "<div>\n",
       "<style scoped>\n",
       "    .dataframe tbody tr th:only-of-type {\n",
       "        vertical-align: middle;\n",
       "    }\n",
       "\n",
       "    .dataframe tbody tr th {\n",
       "        vertical-align: top;\n",
       "    }\n",
       "\n",
       "    .dataframe thead th {\n",
       "        text-align: right;\n",
       "    }\n",
       "</style>\n",
       "<table border=\"1\" class=\"dataframe\">\n",
       "  <thead>\n",
       "    <tr style=\"text-align: right;\">\n",
       "      <th></th>\n",
       "      <th>Age</th>\n",
       "      <th>Attrition</th>\n",
       "      <th>BusinessTravel</th>\n",
       "      <th>Department</th>\n",
       "      <th>DistanceFromHome</th>\n",
       "      <th>Education</th>\n",
       "      <th>EducationField</th>\n",
       "      <th>EmployeeCount</th>\n",
       "      <th>EmployeeID</th>\n",
       "      <th>Gender</th>\n",
       "      <th>...</th>\n",
       "      <th>NumCompaniesWorked</th>\n",
       "      <th>Over18</th>\n",
       "      <th>PercentSalaryHike</th>\n",
       "      <th>StandardHours</th>\n",
       "      <th>StockOptionLevel</th>\n",
       "      <th>TotalWorkingYears</th>\n",
       "      <th>TrainingTimesLastYear</th>\n",
       "      <th>YearsAtCompany</th>\n",
       "      <th>YearsSinceLastPromotion</th>\n",
       "      <th>YearsWithCurrManager</th>\n",
       "    </tr>\n",
       "  </thead>\n",
       "  <tbody>\n",
       "    <tr>\n",
       "      <th>1</th>\n",
       "      <td>31</td>\n",
       "      <td>Yes</td>\n",
       "      <td>Travel_Frequently</td>\n",
       "      <td>Research &amp; Development</td>\n",
       "      <td>10</td>\n",
       "      <td>1</td>\n",
       "      <td>Life Sciences</td>\n",
       "      <td>1</td>\n",
       "      <td>2</td>\n",
       "      <td>Female</td>\n",
       "      <td>...</td>\n",
       "      <td>0.0</td>\n",
       "      <td>Y</td>\n",
       "      <td>23</td>\n",
       "      <td>8</td>\n",
       "      <td>1</td>\n",
       "      <td>6.0</td>\n",
       "      <td>3</td>\n",
       "      <td>5</td>\n",
       "      <td>1</td>\n",
       "      <td>4</td>\n",
       "    </tr>\n",
       "    <tr>\n",
       "      <th>6</th>\n",
       "      <td>28</td>\n",
       "      <td>Yes</td>\n",
       "      <td>Travel_Rarely</td>\n",
       "      <td>Research &amp; Development</td>\n",
       "      <td>11</td>\n",
       "      <td>2</td>\n",
       "      <td>Medical</td>\n",
       "      <td>1</td>\n",
       "      <td>7</td>\n",
       "      <td>Male</td>\n",
       "      <td>...</td>\n",
       "      <td>2.0</td>\n",
       "      <td>Y</td>\n",
       "      <td>20</td>\n",
       "      <td>8</td>\n",
       "      <td>1</td>\n",
       "      <td>5.0</td>\n",
       "      <td>2</td>\n",
       "      <td>0</td>\n",
       "      <td>0</td>\n",
       "      <td>0</td>\n",
       "    </tr>\n",
       "    <tr>\n",
       "      <th>13</th>\n",
       "      <td>47</td>\n",
       "      <td>Yes</td>\n",
       "      <td>Non-Travel</td>\n",
       "      <td>Research &amp; Development</td>\n",
       "      <td>1</td>\n",
       "      <td>1</td>\n",
       "      <td>Medical</td>\n",
       "      <td>1</td>\n",
       "      <td>14</td>\n",
       "      <td>Male</td>\n",
       "      <td>...</td>\n",
       "      <td>1.0</td>\n",
       "      <td>Y</td>\n",
       "      <td>11</td>\n",
       "      <td>8</td>\n",
       "      <td>2</td>\n",
       "      <td>10.0</td>\n",
       "      <td>4</td>\n",
       "      <td>10</td>\n",
       "      <td>9</td>\n",
       "      <td>9</td>\n",
       "    </tr>\n",
       "    <tr>\n",
       "      <th>28</th>\n",
       "      <td>44</td>\n",
       "      <td>Yes</td>\n",
       "      <td>Travel_Frequently</td>\n",
       "      <td>Research &amp; Development</td>\n",
       "      <td>1</td>\n",
       "      <td>2</td>\n",
       "      <td>Medical</td>\n",
       "      <td>1</td>\n",
       "      <td>29</td>\n",
       "      <td>Male</td>\n",
       "      <td>...</td>\n",
       "      <td>3.0</td>\n",
       "      <td>Y</td>\n",
       "      <td>14</td>\n",
       "      <td>8</td>\n",
       "      <td>1</td>\n",
       "      <td>19.0</td>\n",
       "      <td>2</td>\n",
       "      <td>1</td>\n",
       "      <td>0</td>\n",
       "      <td>0</td>\n",
       "    </tr>\n",
       "    <tr>\n",
       "      <th>30</th>\n",
       "      <td>26</td>\n",
       "      <td>Yes</td>\n",
       "      <td>Travel_Rarely</td>\n",
       "      <td>Research &amp; Development</td>\n",
       "      <td>4</td>\n",
       "      <td>3</td>\n",
       "      <td>Medical</td>\n",
       "      <td>1</td>\n",
       "      <td>31</td>\n",
       "      <td>Male</td>\n",
       "      <td>...</td>\n",
       "      <td>2.0</td>\n",
       "      <td>Y</td>\n",
       "      <td>11</td>\n",
       "      <td>8</td>\n",
       "      <td>0</td>\n",
       "      <td>5.0</td>\n",
       "      <td>5</td>\n",
       "      <td>3</td>\n",
       "      <td>0</td>\n",
       "      <td>2</td>\n",
       "    </tr>\n",
       "  </tbody>\n",
       "</table>\n",
       "<p>5 rows × 24 columns</p>\n",
       "</div>"
      ],
      "text/plain": [
       "    Age Attrition     BusinessTravel              Department  \\\n",
       "1    31       Yes  Travel_Frequently  Research & Development   \n",
       "6    28       Yes      Travel_Rarely  Research & Development   \n",
       "13   47       Yes         Non-Travel  Research & Development   \n",
       "28   44       Yes  Travel_Frequently  Research & Development   \n",
       "30   26       Yes      Travel_Rarely  Research & Development   \n",
       "\n",
       "    DistanceFromHome  Education EducationField  EmployeeCount  EmployeeID  \\\n",
       "1                 10          1  Life Sciences              1           2   \n",
       "6                 11          2        Medical              1           7   \n",
       "13                 1          1        Medical              1          14   \n",
       "28                 1          2        Medical              1          29   \n",
       "30                 4          3        Medical              1          31   \n",
       "\n",
       "    Gender          ...           NumCompaniesWorked Over18 PercentSalaryHike  \\\n",
       "1   Female          ...                          0.0      Y                23   \n",
       "6     Male          ...                          2.0      Y                20   \n",
       "13    Male          ...                          1.0      Y                11   \n",
       "28    Male          ...                          3.0      Y                14   \n",
       "30    Male          ...                          2.0      Y                11   \n",
       "\n",
       "    StandardHours  StockOptionLevel TotalWorkingYears  TrainingTimesLastYear  \\\n",
       "1               8                 1               6.0                      3   \n",
       "6               8                 1               5.0                      2   \n",
       "13              8                 2              10.0                      4   \n",
       "28              8                 1              19.0                      2   \n",
       "30              8                 0               5.0                      5   \n",
       "\n",
       "    YearsAtCompany  YearsSinceLastPromotion  YearsWithCurrManager  \n",
       "1                5                        1                     4  \n",
       "6                0                        0                     0  \n",
       "13              10                        9                     9  \n",
       "28               1                        0                     0  \n",
       "30               3                        0                     2  \n",
       "\n",
       "[5 rows x 24 columns]"
      ]
     },
     "execution_count": 13,
     "metadata": {},
     "output_type": "execute_result"
    }
   ],
   "source": [
    "df_attr_yes.head()"
   ]
  },
  {
   "cell_type": "code",
   "execution_count": 14,
   "metadata": {},
   "outputs": [
    {
     "data": {
      "text/plain": [
       "13    100\n",
       "11     90\n",
       "12     89\n",
       "14     87\n",
       "15     63\n",
       "17     43\n",
       "19     42\n",
       "18     39\n",
       "22     30\n",
       "16     29\n",
       "21     27\n",
       "20     27\n",
       "25     15\n",
       "23     15\n",
       "24      9\n",
       "Name: PercentSalaryHike, dtype: int64"
      ]
     },
     "execution_count": 14,
     "metadata": {},
     "output_type": "execute_result"
    }
   ],
   "source": [
    "df_attr_yes.PercentSalaryHike.value_counts()"
   ]
  },
  {
   "cell_type": "code",
   "execution_count": 16,
   "metadata": {},
   "outputs": [
    {
     "data": {
      "text/plain": [
       "15.487943262411347"
      ]
     },
     "execution_count": 16,
     "metadata": {},
     "output_type": "execute_result"
    }
   ],
   "source": [
    "u = df_attr_yes.PercentSalaryHike.mean()\n",
    "u"
   ]
  },
  {
   "cell_type": "code",
   "execution_count": 17,
   "metadata": {},
   "outputs": [
    {
     "data": {
      "text/plain": [
       "0    13\n",
       "dtype: int64"
      ]
     },
     "execution_count": 17,
     "metadata": {},
     "output_type": "execute_result"
    }
   ],
   "source": [
    "df_attr_yes.PercentSalaryHike.mode()\n"
   ]
  },
  {
   "cell_type": "markdown",
   "metadata": {},
   "source": [
    "# 2:: Average PercentSalaryHike rate of attrition=Yes is 15.4810\n",
    "\n",
    "# 1 :: Average PercentSalaryHike rate of attrition=Yes is >= 14\n",
    "    H0 : u >= 14\n",
    "    H1 : u < 14"
   ]
  },
  {
   "cell_type": "code",
   "execution_count": 18,
   "metadata": {},
   "outputs": [
    {
     "data": {
      "text/plain": [
       "3.663006687825515"
      ]
     },
     "execution_count": 18,
     "metadata": {},
     "output_type": "execute_result"
    }
   ],
   "source": [
    "sigma = df.PercentSalaryHike.std()\n",
    "sigma"
   ]
  },
  {
   "cell_type": "code",
   "execution_count": 19,
   "metadata": {},
   "outputs": [],
   "source": [
    "alpha = 0.05"
   ]
  },
  {
   "cell_type": "code",
   "execution_count": 20,
   "metadata": {},
   "outputs": [
    {
     "data": {
      "text/plain": [
       "705"
      ]
     },
     "execution_count": 20,
     "metadata": {},
     "output_type": "execute_result"
    }
   ],
   "source": [
    "rows = len(df_attr_yes)\n",
    "rows"
   ]
  },
  {
   "cell_type": "code",
   "execution_count": 21,
   "metadata": {},
   "outputs": [],
   "source": [
    "cols = 1"
   ]
  },
  {
   "cell_type": "code",
   "execution_count": 22,
   "metadata": {},
   "outputs": [
    {
     "data": {
      "text/plain": [
       "15.210634413509814"
      ]
     },
     "execution_count": 22,
     "metadata": {},
     "output_type": "execute_result"
    }
   ],
   "source": [
    "df.PercentSalaryHike.mean()"
   ]
  },
  {
   "cell_type": "code",
   "execution_count": 24,
   "metadata": {},
   "outputs": [],
   "source": [
    "perSalHike = df_attr_yes.PercentSalaryHike"
   ]
  },
  {
   "cell_type": "code",
   "execution_count": 25,
   "metadata": {},
   "outputs": [],
   "source": [
    "sample = []\n",
    "cnt= 0 \n",
    "for i in perSalHike:\n",
    "    sample.append(i)\n",
    "    cnt+=1\n",
    "    if cnt==200:\n",
    "        break\n",
    "    "
   ]
  },
  {
   "cell_type": "code",
   "execution_count": 26,
   "metadata": {},
   "outputs": [
    {
     "data": {
      "text/plain": [
       "200"
      ]
     },
     "execution_count": 26,
     "metadata": {},
     "output_type": "execute_result"
    }
   ],
   "source": [
    "len(sample)"
   ]
  },
  {
   "cell_type": "code",
   "execution_count": 30,
   "metadata": {},
   "outputs": [],
   "source": [
    "samp = pd.Series(sample)"
   ]
  },
  {
   "cell_type": "code",
   "execution_count": 31,
   "metadata": {},
   "outputs": [
    {
     "data": {
      "text/plain": [
       "0      23\n",
       "1      20\n",
       "2      11\n",
       "3      14\n",
       "4      11\n",
       "5      12\n",
       "6      14\n",
       "7      18\n",
       "8      14\n",
       "9      17\n",
       "10     13\n",
       "11     12\n",
       "12     21\n",
       "13     11\n",
       "14     20\n",
       "15     12\n",
       "16     25\n",
       "17     18\n",
       "18     19\n",
       "19     13\n",
       "20     17\n",
       "21     20\n",
       "22     16\n",
       "23     15\n",
       "24     22\n",
       "25     25\n",
       "26     15\n",
       "27     22\n",
       "28     13\n",
       "29     12\n",
       "       ..\n",
       "170    11\n",
       "171    15\n",
       "172    11\n",
       "173    14\n",
       "174    14\n",
       "175    11\n",
       "176    17\n",
       "177    25\n",
       "178    12\n",
       "179    19\n",
       "180    12\n",
       "181    21\n",
       "182    11\n",
       "183    16\n",
       "184    17\n",
       "185    13\n",
       "186    15\n",
       "187    14\n",
       "188    15\n",
       "189    11\n",
       "190    25\n",
       "191    24\n",
       "192    14\n",
       "193    15\n",
       "194    12\n",
       "195    19\n",
       "196    13\n",
       "197    12\n",
       "198    13\n",
       "199    13\n",
       "Length: 200, dtype: int64"
      ]
     },
     "execution_count": 31,
     "metadata": {},
     "output_type": "execute_result"
    }
   ],
   "source": [
    "samp"
   ]
  },
  {
   "cell_type": "code",
   "execution_count": 32,
   "metadata": {},
   "outputs": [
    {
     "data": {
      "text/plain": [
       "15.355"
      ]
     },
     "execution_count": 32,
     "metadata": {},
     "output_type": "execute_result"
    }
   ],
   "source": [
    "x_bar = samp.mean()\n",
    "x_bar"
   ]
  },
  {
   "cell_type": "code",
   "execution_count": 33,
   "metadata": {},
   "outputs": [
    {
     "data": {
      "text/plain": [
       "-0.5132673258641013"
      ]
     },
     "execution_count": 33,
     "metadata": {},
     "output_type": "execute_result"
    }
   ],
   "source": [
    "import math\n",
    "zCal = (x_bar - u) / (sigma/math.sqrt(200))\n",
    "zCal"
   ]
  },
  {
   "cell_type": "code",
   "execution_count": 34,
   "metadata": {},
   "outputs": [
    {
     "data": {
      "text/plain": [
       "2     114\n",
       "1      94\n",
       "10     60\n",
       "7      48\n",
       "9      35\n",
       "8      33\n",
       "15     33\n",
       "4      32\n",
       "5      30\n",
       "3      29\n",
       "6      21\n",
       "19     18\n",
       "18     15\n",
       "16     15\n",
       "12     15\n",
       "29     12\n",
       "17     12\n",
       "23     12\n",
       "28     11\n",
       "27      9\n",
       "22      9\n",
       "24      9\n",
       "20      9\n",
       "11      9\n",
       "25      6\n",
       "21      6\n",
       "26      3\n",
       "13      3\n",
       "14      3\n",
       "Name: DistanceFromHome, dtype: int64"
      ]
     },
     "execution_count": 34,
     "metadata": {},
     "output_type": "execute_result"
    }
   ],
   "source": [
    "df_attr_yes.DistanceFromHome.value_counts()"
   ]
  },
  {
   "cell_type": "code",
   "execution_count": 35,
   "metadata": {},
   "outputs": [
    {
     "data": {
      "text/plain": [
       "31    54\n",
       "29    53\n",
       "28    40\n",
       "26    36\n",
       "33    36\n",
       "32    33\n",
       "35    30\n",
       "30    27\n",
       "34    27\n",
       "24    21\n",
       "25    18\n",
       "36    18\n",
       "44    18\n",
       "21    18\n",
       "20    18\n",
       "41    18\n",
       "19    18\n",
       "39    18\n",
       "37    17\n",
       "22    15\n",
       "58    15\n",
       "40    15\n",
       "50    15\n",
       "23    12\n",
       "46    12\n",
       "18    11\n",
       "27     9\n",
       "55     9\n",
       "52     9\n",
       "56     9\n",
       "47     8\n",
       "38     6\n",
       "49     6\n",
       "45     6\n",
       "51     6\n",
       "43     6\n",
       "53     6\n",
       "42     6\n",
       "48     6\n",
       "Name: Age, dtype: int64"
      ]
     },
     "execution_count": 35,
     "metadata": {},
     "output_type": "execute_result"
    }
   ],
   "source": [
    "df_attr_yes.Age.value_counts()"
   ]
  },
  {
   "cell_type": "code",
   "execution_count": 36,
   "metadata": {},
   "outputs": [
    {
     "data": {
      "text/plain": [
       "33.62836879432624"
      ]
     },
     "execution_count": 36,
     "metadata": {},
     "output_type": "execute_result"
    }
   ],
   "source": [
    "df_attr_yes.Age.mean()"
   ]
  },
  {
   "cell_type": "markdown",
   "metadata": {},
   "source": [
    "# Analysis Based on Years At Company"
   ]
  },
  {
   "cell_type": "code",
   "execution_count": 37,
   "metadata": {},
   "outputs": [
    {
     "data": {
      "text/plain": [
       "1     176\n",
       "2      81\n",
       "5      61\n",
       "3      59\n",
       "4      56\n",
       "10     54\n",
       "0      47\n",
       "7      33\n",
       "6      27\n",
       "8      27\n",
       "9      24\n",
       "13      6\n",
       "11      6\n",
       "14      6\n",
       "33      3\n",
       "15      3\n",
       "16      3\n",
       "17      3\n",
       "18      3\n",
       "19      3\n",
       "20      3\n",
       "21      3\n",
       "22      3\n",
       "23      3\n",
       "24      3\n",
       "31      3\n",
       "32      3\n",
       "40      3\n",
       "Name: YearsAtCompany, dtype: int64"
      ]
     },
     "execution_count": 37,
     "metadata": {},
     "output_type": "execute_result"
    }
   ],
   "source": [
    "df_attr_yes.YearsAtCompany.value_counts()"
   ]
  },
  {
   "cell_type": "markdown",
   "metadata": {},
   "source": [
    "## We Observe from above data that The people who are at the company >=11 years have a low attrition Rate\n",
    "\n",
    "## Where as the people <11 Years have High Attrition Rate"
   ]
  },
  {
   "cell_type": "markdown",
   "metadata": {},
   "source": [
    "# Analysis Based On Job Role of Enployee"
   ]
  },
  {
   "cell_type": "code",
   "execution_count": 38,
   "metadata": {},
   "outputs": [
    {
     "data": {
      "text/plain": [
       "Sales Executive              165\n",
       "Research Scientist           158\n",
       "Laboratory Technician        125\n",
       "Healthcare Representative     56\n",
       "Research Director             54\n",
       "Manufacturing Director        48\n",
       "Manager                       42\n",
       "Sales Representative          36\n",
       "Human Resources               21\n",
       "Name: JobRole, dtype: int64"
      ]
     },
     "execution_count": 38,
     "metadata": {},
     "output_type": "execute_result"
    }
   ],
   "source": [
    "df_attr_yes.JobRole.value_counts()"
   ]
  },
  {
   "cell_type": "markdown",
   "metadata": {},
   "source": [
    "## We Observe from above data that Sales Executive, Research Scientist and Laboratory Technician have a high Attrition Rate As compared to other JobRole"
   ]
  },
  {
   "cell_type": "code",
   "execution_count": null,
   "metadata": {},
   "outputs": [],
   "source": []
  },
  {
   "cell_type": "code",
   "execution_count": 39,
   "metadata": {},
   "outputs": [
    {
     "data": {
      "text/plain": [
       "Travel_Rarely        465\n",
       "Travel_Frequently    204\n",
       "Non-Travel            36\n",
       "Name: BusinessTravel, dtype: int64"
      ]
     },
     "execution_count": 39,
     "metadata": {},
     "output_type": "execute_result"
    }
   ],
   "source": [
    "df_attr_yes.BusinessTravel.value_counts()"
   ]
  },
  {
   "cell_type": "code",
   "execution_count": 40,
   "metadata": {},
   "outputs": [
    {
     "data": {
      "text/plain": [
       "1.0    292\n",
       "0.0     69\n",
       "7.0     51\n",
       "4.0     49\n",
       "6.0     48\n",
       "3.0     48\n",
       "2.0     48\n",
       "5.0     46\n",
       "9.0     36\n",
       "8.0     18\n",
       "Name: NumCompaniesWorked, dtype: int64"
      ]
     },
     "execution_count": 40,
     "metadata": {},
     "output_type": "execute_result"
    }
   ],
   "source": [
    "df_attr_yes.NumCompaniesWorked.value_counts()"
   ]
  },
  {
   "cell_type": "markdown",
   "metadata": {},
   "source": [
    "# Analysis based on Education Field of the Employee"
   ]
  },
  {
   "cell_type": "code",
   "execution_count": 41,
   "metadata": {},
   "outputs": [
    {
     "data": {
      "text/plain": [
       "Life Sciences       301\n",
       "Medical             222\n",
       "Marketing            75\n",
       "Technical Degree     45\n",
       "Human Resources      32\n",
       "Other                30\n",
       "Name: EducationField, dtype: int64"
      ]
     },
     "execution_count": 41,
     "metadata": {},
     "output_type": "execute_result"
    }
   ],
   "source": [
    "df_attr_yes.EducationField.value_counts()"
   ]
  },
  {
   "cell_type": "markdown",
   "metadata": {},
   "source": [
    "## From above we observe that Employees of Life Science and Medical Field have a high Attrition Rate"
   ]
  },
  {
   "cell_type": "code",
   "execution_count": 42,
   "metadata": {},
   "outputs": [
    {
     "data": {
      "text/plain": [
       "25590     6\n",
       "27410     6\n",
       "27430     6\n",
       "55620     6\n",
       "28860     6\n",
       "32040     3\n",
       "61800     3\n",
       "33120     3\n",
       "61790     3\n",
       "75100     3\n",
       "25930     3\n",
       "15690     3\n",
       "22850     3\n",
       "26940     3\n",
       "55610     3\n",
       "44220     3\n",
       "15550     3\n",
       "10090     3\n",
       "137580    3\n",
       "108830    3\n",
       "70940     3\n",
       "56600     3\n",
       "39190     3\n",
       "57620     3\n",
       "20750     3\n",
       "21800     3\n",
       "86280     3\n",
       "103330    3\n",
       "192720    3\n",
       "109650    3\n",
       "         ..\n",
       "22740     3\n",
       "107480    3\n",
       "21190     3\n",
       "61180     3\n",
       "82680     3\n",
       "63220     3\n",
       "144110    3\n",
       "25320     3\n",
       "24040     3\n",
       "53960     3\n",
       "40660     3\n",
       "67280     3\n",
       "102090    3\n",
       "84630     3\n",
       "28360     3\n",
       "24260     3\n",
       "62140     3\n",
       "196270    3\n",
       "23210     3\n",
       "159720    3\n",
       "17060     3\n",
       "68250     3\n",
       "76440     3\n",
       "30720     3\n",
       "24130     2\n",
       "44340     2\n",
       "54840     2\n",
       "27740     2\n",
       "24790     2\n",
       "100960    2\n",
       "Name: MonthlyIncome, Length: 232, dtype: int64"
      ]
     },
     "execution_count": 42,
     "metadata": {},
     "output_type": "execute_result"
    }
   ],
   "source": [
    "df_attr_yes.MonthlyIncome.value_counts()"
   ]
  },
  {
   "cell_type": "code",
   "execution_count": 43,
   "metadata": {},
   "outputs": [
    {
     "data": {
      "text/plain": [
       "{'whiskers': [<matplotlib.lines.Line2D at 0x2eb32615cf8>,\n",
       "  <matplotlib.lines.Line2D at 0x2eb32615dd8>],\n",
       " 'caps': [<matplotlib.lines.Line2D at 0x2eb3262a588>,\n",
       "  <matplotlib.lines.Line2D at 0x2eb3262a9b0>],\n",
       " 'boxes': [<matplotlib.lines.Line2D at 0x2eb32615780>],\n",
       " 'medians': [<matplotlib.lines.Line2D at 0x2eb3262add8>],\n",
       " 'fliers': [<matplotlib.lines.Line2D at 0x2eb3262aeb8>],\n",
       " 'means': []}"
      ]
     },
     "execution_count": 43,
     "metadata": {},
     "output_type": "execute_result"
    },
    {
     "data": {
      "image/png": "[encoded data removed]",
      "text/plain": [
       "<Figure size 432x288 with 1 Axes>"
      ]
     },
     "metadata": {
      "needs_background": "light"
     },
     "output_type": "display_data"
    }
   ],
   "source": [
    "plt.boxplot(df_attr_yes.MonthlyIncome)"
   ]
  },
  {
   "cell_type": "code",
   "execution_count": null,
   "metadata": {},
   "outputs": [],
   "source": []
  },
  {
   "cell_type": "code",
   "execution_count": 44,
   "metadata": {},
   "outputs": [
    {
     "data": {
      "text/plain": [
       "232"
      ]
     },
     "execution_count": 44,
     "metadata": {},
     "output_type": "execute_result"
    }
   ],
   "source": [
    "len(sorted(df_attr_yes.MonthlyIncome.unique()))"
   ]
  },
  {
   "cell_type": "code",
   "execution_count": 45,
   "metadata": {},
   "outputs": [
    {
     "data": {
      "text/plain": [
       "Index(['Age', 'Attrition', 'BusinessTravel', 'Department', 'DistanceFromHome',\n",
       "       'Education', 'EducationField', 'EmployeeCount', 'EmployeeID', 'Gender',\n",
       "       'JobLevel', 'JobRole', 'MaritalStatus', 'MonthlyIncome',\n",
       "       'NumCompaniesWorked', 'Over18', 'PercentSalaryHike', 'StandardHours',\n",
       "       'StockOptionLevel', 'TotalWorkingYears', 'TrainingTimesLastYear',\n",
       "       'YearsAtCompany', 'YearsSinceLastPromotion', 'YearsWithCurrManager'],\n",
       "      dtype='object')"
      ]
     },
     "execution_count": 45,
     "metadata": {},
     "output_type": "execute_result"
    }
   ],
   "source": [
    "df_attr_yes.columns"
   ]
  },
  {
   "cell_type": "markdown",
   "metadata": {},
   "source": [
    "# Analysis Based on Total Work Experience on employees \n",
    "## ie.TotalWorkingYears"
   ]
  },
  {
   "cell_type": "code",
   "execution_count": 46,
   "metadata": {},
   "outputs": [
    {
     "data": {
      "text/plain": [
       "1.0     119\n",
       "10.0     75\n",
       "6.0      65\n",
       "7.0      52\n",
       "5.0      48\n",
       "8.0      47\n",
       "4.0      36\n",
       "9.0      30\n",
       "3.0      27\n",
       "2.0      27\n",
       "11.0     21\n",
       "15.0     15\n",
       "12.0     15\n",
       "0.0      14\n",
       "18.0     12\n",
       "14.0     12\n",
       "19.0      9\n",
       "24.0      9\n",
       "16.0      9\n",
       "17.0      9\n",
       "13.0      9\n",
       "40.0      6\n",
       "22.0      6\n",
       "20.0      6\n",
       "23.0      6\n",
       "25.0      3\n",
       "33.0      3\n",
       "21.0      3\n",
       "26.0      3\n",
       "31.0      3\n",
       "28.0      3\n",
       "34.0      3\n",
       "Name: TotalWorkingYears, dtype: int64"
      ]
     },
     "execution_count": 46,
     "metadata": {},
     "output_type": "execute_result"
    }
   ],
   "source": [
    "df_attr_yes.TotalWorkingYears.value_counts()"
   ]
  },
  {
   "cell_type": "code",
   "execution_count": 47,
   "metadata": {},
   "outputs": [],
   "source": [
    "# Grouping The data \n",
    "def getExpTotal(n,m):\n",
    "    sum=0\n",
    "    for i in range(n,m+1):\n",
    "        try:\n",
    "            sum += df_attr_yes.TotalWorkingYears.value_counts()[float(i)]\n",
    "        except:\n",
    "            pass\n",
    "    return sum"
   ]
  },
  {
   "cell_type": "code",
   "execution_count": 48,
   "metadata": {},
   "outputs": [],
   "source": [
    "workExp_less_than_16 = getExpTotal(1,15)\n",
    "workExp_greater_than_15 = getExpTotal(16,40)"
   ]
  },
  {
   "cell_type": "code",
   "execution_count": 49,
   "metadata": {},
   "outputs": [
    {
     "name": "stdout",
     "output_type": "stream",
     "text": [
      "Total Employes Who leave : 705\n",
      "Number of People leaving Having Experience between 1-15: 598 84.822695035461 %\n",
      "Number of People leaving Having Experience between 16-40: 93 13.191489361702127 %\n"
     ]
    }
   ],
   "source": [
    "total_attr = df[\"Attrition\"].value_counts()[\"Yes\"]\n",
    "print(\"Total Employes Who leave :\",total_attr)\n",
    "print(\"Number of People leaving Having Experience between 1-15:\",workExp_less_than_16 ,(workExp_less_than_16/total_attr)*100,\"%\")\n",
    "print(\"Number of People leaving Having Experience between 16-40:\",workExp_greater_than_15 ,(workExp_greater_than_15/total_attr)*100,\"%\")"
   ]
  },
  {
   "cell_type": "markdown",
   "metadata": {},
   "source": [
    "### From Above analysis People having Experience less than 16 years have a high Attrition Rate\n",
    "\n",
    "### Where As people having Experience Above 15 Years Have less Attrition Rate\n"
   ]
  },
  {
   "cell_type": "code",
   "execution_count": null,
   "metadata": {},
   "outputs": [],
   "source": []
  }
 ],
 "metadata": {
  "kernelspec": {
   "display_name": "Python 3",
   "language": "python",
   "name": "python3"
  },
  "language_info": {
   "codemirror_mode": {
    "name": "ipython",
    "version": 3
   },
   "file_extension": ".py",
   "mimetype": "text/x-python",
   "name": "python",
   "nbconvert_exporter": "python",
   "pygments_lexer": "ipython3",
   "version": "3.7.0"
  }
 },
 "nbformat": 4,
 "nbformat_minor": 2
}
